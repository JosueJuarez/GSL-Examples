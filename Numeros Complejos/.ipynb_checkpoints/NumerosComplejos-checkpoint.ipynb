{
 "cells": [
  {
   "cell_type": "code",
   "execution_count": 1,
   "id": "054956df-0f2e-4386-aec2-8b00983c316a",
   "metadata": {},
   "outputs": [],
   "source": [
    "import numpy as np\n",
    "import cmath"
   ]
  },
  {
   "cell_type": "code",
   "execution_count": 2,
   "id": "e3d3fca9-a30d-4be9-a83a-cc2a607843ed",
   "metadata": {},
   "outputs": [],
   "source": [
    "x = 4. +  2.j\n",
    "y = complex(3,1)\n",
    "z = complex(5*np.cos(np.pi/2), 5*np.sin(np.pi/2))"
   ]
  },
  {
   "cell_type": "code",
   "execution_count": 3,
   "id": "f52d1cb3-0f8b-43ad-a2f7-b11b3c5d03e9",
   "metadata": {},
   "outputs": [
    {
     "name": "stdout",
     "output_type": "stream",
     "text": [
      "x = (4+2j)\n",
      "y = (3+1j)\n",
      "z = (3.061616997868383e-16+5j)\n"
     ]
    }
   ],
   "source": [
    "print(\"x = {}\".format(x))\n",
    "print(\"y = {}\".format(y))\n",
    "print(\"z = {}\".format(z))"
   ]
  },
  {
   "cell_type": "code",
   "execution_count": 4,
   "id": "aa208a93-63af-48a3-8498-aa82e52be0ce",
   "metadata": {},
   "outputs": [
    {
     "name": "stdout",
     "output_type": "stream",
     "text": [
      "arg(x) = 0.4636476090008061\n",
      "|x| = 4.47213595499958\n",
      "log(|x|) = 1.4978661367769956\n"
     ]
    }
   ],
   "source": [
    "print(\"arg(x) = {}\".format(cmath.phase(x)))\n",
    "print(\"|x| = {}\".format(np.abs(x)))\n",
    "print(\"log(|x|) = {}\".format(np.log(np.abs(x))))"
   ]
  },
  {
   "cell_type": "code",
   "execution_count": 5,
   "id": "d465017c-772e-4599-8ff6-717ea41d612d",
   "metadata": {},
   "outputs": [
    {
     "name": "stdout",
     "output_type": "stream",
     "text": [
      "x+y = (7+3j)\n",
      "x-y = (1+1j)\n",
      "x*y = (10+10j)\n",
      "x/y = (1.4000000000000001+0.2j)\n"
     ]
    }
   ],
   "source": [
    "print(\"x+y = {}\".format(x+y))\n",
    "print(\"x-y = {}\".format(x-y))\n",
    "print(\"x*y = {}\".format(x*y))\n",
    "print(\"x/y = {}\".format(x/y))"
   ]
  },
  {
   "cell_type": "code",
   "execution_count": 6,
   "id": "80f77c62-425a-429f-a022-b9d7fd19ca3b",
   "metadata": {},
   "outputs": [
    {
     "name": "stdout",
     "output_type": "stream",
     "text": [
      "*x = (4-2j)\n",
      "1/x = (0.2-0.1j)\n",
      "sqrt(x) = (2.0581710272714924+0.48586827175664565j)\n",
      "x^y = (-54.47025802190744+14.070170026632336j)\n"
     ]
    }
   ],
   "source": [
    "print(\"*x = {}\".format(np.conj(x)))\n",
    "print(\"1/x = {}\".format(1/x))\n",
    "print(\"sqrt(x) = {}\".format(np.sqrt(x)))\n",
    "print(\"x^y = {}\".format(x**y))"
   ]
  },
  {
   "cell_type": "code",
   "execution_count": 7,
   "id": "88586f31-c349-4ae7-a89f-a789e9348f49",
   "metadata": {},
   "outputs": [
    {
     "name": "stdout",
     "output_type": "stream",
     "text": [
      "exp(x) = (-22.720847417619233+49.645957334580565j)\n",
      "log(x) = (1.4978661367769956+0.4636476090008061j)\n",
      "sin(x) = (-2.8472390868488278-2.370674169352002j)\n",
      "arccos(x) = (0.4738747779647538-2.183585216564564j)\n",
      "tanh(x) = (1.0004385132020523-0.0005079806234700388j)\n",
      "arcsech(x) = (0.10186391598012427-1.3704927556955964j)\n"
     ]
    }
   ],
   "source": [
    "print(\"exp(x) = {}\".format(np.exp(x)))\n",
    "print(\"log(x) = {}\".format(np.log(x)))\n",
    "print(\"sin(x) = {}\".format(np.sin(x)))\n",
    "print(\"arccos(x) = {}\".format(np.arccos(x)))\n",
    "print(\"tanh(x) = {}\".format(np.tanh(x)))\n",
    "print(\"arcsech(x) = {}\".format(np.arccosh(1/x)))"
   ]
  },
  {
   "cell_type": "code",
   "execution_count": null,
   "id": "7d4a93ad-c55e-41fb-b2fe-00f01f2dc600",
   "metadata": {},
   "outputs": [],
   "source": []
  }
 ],
 "metadata": {
  "kernelspec": {
   "display_name": "Python 3",
   "language": "python",
   "name": "python3"
  },
  "language_info": {
   "codemirror_mode": {
    "name": "ipython",
    "version": 3
   },
   "file_extension": ".py",
   "mimetype": "text/x-python",
   "name": "python",
   "nbconvert_exporter": "python",
   "pygments_lexer": "ipython3",
   "version": "3.8.8"
  }
 },
 "nbformat": 4,
 "nbformat_minor": 5
}
