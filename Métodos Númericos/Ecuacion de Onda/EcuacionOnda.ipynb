{
 "cells": [
  {
   "cell_type": "code",
   "execution_count": 1,
   "id": "0325b1d3-8399-497b-b7cc-470bebdcff20",
   "metadata": {},
   "outputs": [],
   "source": [
    "import numpy as np\n",
    "import matplotlib.pyplot as plt"
   ]
  },
  {
   "cell_type": "code",
   "execution_count": 2,
   "id": "dfc2c86f-ea58-4869-82e6-0135ec7c1dd8",
   "metadata": {},
   "outputs": [],
   "source": [
    "L = 1.\n",
    "nx = 9\n",
    "dx = L/(nx + 1.)\n",
    "\n",
    "nt = 20.\n",
    "dt = 0.05\n",
    "c = 2.\n",
    "lam = c*dt/dx"
   ]
  },
  {
   "cell_type": "code",
   "execution_count": 3,
   "id": "d78e7e08-05fe-407f-b70f-1aa7ac385e5b",
   "metadata": {},
   "outputs": [],
   "source": [
    "x = np.linspace(0, 2, nx+2)\n",
    "u = np.sin(x)"
   ]
  },
  {
   "cell_type": "code",
   "execution_count": 5,
   "id": "cd71d51b-0bd1-445e-9331-e31adf388c5a",
   "metadata": {},
   "outputs": [],
   "source": [
    "w = np.empty(nx+2)\n",
    "w[0] = 0.\n",
    "w[-1] = 0.\n",
    "w[1:nx+1] = (1 - lam**2)*u[1:nx+1] + (0.5)*(lam**2)*(u[2:nx+2] + u[0:nx])"
   ]
  },
  {
   "cell_type": "code",
   "execution_count": 6,
   "id": "643a0c9c-3625-4d70-9907-4cde05abcbca",
   "metadata": {},
   "outputs": [
    {
     "data": {
      "text/plain": [
       "[<matplotlib.lines.Line2D at 0x7f7c0b49cf10>]"
      ]
     },
     "execution_count": 6,
     "metadata": {},
     "output_type": "execute_result"
    },
    {
     "data": {
      "image/png": "[encoded data removed]",
      "text/plain": [
       "<Figure size 432x288 with 1 Axes>"
      ]
     },
     "metadata": {
      "needs_background": "light"
     },
     "output_type": "display_data"
    }
   ],
   "source": [
    "plt.plot(x,w)"
   ]
  },
  {
   "cell_type": "code",
   "execution_count": 9,
   "id": "ee3e92c7-b0c2-4c95-aead-c1d423b582d1",
   "metadata": {},
   "outputs": [
    {
     "data": {
      "text/plain": [
       "array([0.2, 0.4])"
      ]
     },
     "execution_count": 9,
     "metadata": {},
     "output_type": "execute_result"
    }
   ],
   "source": [
    "x[1:3]"
   ]
  },
  {
   "cell_type": "code",
   "execution_count": 10,
   "id": "6fc52b0b-56c7-4f55-9a69-b28b445698ad",
   "metadata": {},
   "outputs": [
    {
     "data": {
      "text/plain": [
       "array([0. , 0.2, 0.4, 0.6, 0.8, 1. , 1.2, 1.4, 1.6, 1.8, 2. ])"
      ]
     },
     "execution_count": 10,
     "metadata": {},
     "output_type": "execute_result"
    }
   ],
   "source": [
    "x"
   ]
  },
  {
   "cell_type": "code",
   "execution_count": null,
   "id": "cde12ff5-9311-4abe-98f2-514587b84ee1",
   "metadata": {},
   "outputs": [],
   "source": []
  }
 ],
 "metadata": {
  "kernelspec": {
   "display_name": "Python 3",
   "language": "python",
   "name": "python3"
  },
  "language_info": {
   "codemirror_mode": {
    "name": "ipython",
    "version": 3
   },
   "file_extension": ".py",
   "mimetype": "text/x-python",
   "name": "python",
   "nbconvert_exporter": "python",
   "pygments_lexer": "ipython3",
   "version": "3.8.8"
  }
 },
 "nbformat": 4,
 "nbformat_minor": 5
}
