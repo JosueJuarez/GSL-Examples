{
 "cells": [
  {
   "cell_type": "code",
   "execution_count": 1,
   "id": "25b10fc5-b35f-4c6a-b975-31189adcd0e7",
   "metadata": {},
   "outputs": [],
   "source": [
    "import numpy as np\n",
    "from numpy import linalg as LA"
   ]
  },
  {
   "cell_type": "code",
   "execution_count": 2,
   "id": "f793c745-69fb-4f9d-86f1-91af4b13568d",
   "metadata": {},
   "outputs": [],
   "source": [
    "A = np.array([[1.0 , 1/2.0, 1/3.0, 1/4.0],\n",
    "              [1/2.0, 1/3.0, 1/4.0, 1/5.0],\n",
    "              [1/3.0, 1/4.0, 1/5.0, 1/6.0],\n",
    "              [1/4.0, 1/5.0, 1/6.0, 1/7.0]])"
   ]
  },
  {
   "cell_type": "code",
   "execution_count": 3,
   "id": "841be84c-df75-471e-9044-e271b34ddb2e",
   "metadata": {},
   "outputs": [],
   "source": [
    "w, v = LA.eig(A)"
   ]
  },
  {
   "cell_type": "code",
   "execution_count": 4,
   "id": "a22c17be-85fd-41fe-96ba-64e70cda53d3",
   "metadata": {},
   "outputs": [
    {
     "name": "stdout",
     "output_type": "stream",
     "text": [
      "Valor propio: 1.5002142800592424\n",
      "Vector propio: [0.79260829 0.45192312 0.3224164  0.25216117]\n",
      "Valor propio: 0.16914122022145\n",
      "Vector propio: [ 0.5820757  -0.37050219 -0.50957863 -0.51404827]\n",
      "Valor propio: 0.0067382736057607345\n",
      "Vector propio: [ 0.17918629 -0.74191779  0.10022814  0.63828253]\n",
      "Valor propio: 9.670230402260962e-05\n",
      "Vector propio: [-0.02919332  0.32871206 -0.79141115  0.51455275]\n"
     ]
    }
   ],
   "source": [
    "for i in range(0,4):\n",
    "    print(\"Valor propio: {}\".format(w[i]))\n",
    "    print(\"Vector propio: {}\".format(v[:,i]))"
   ]
  }
 ],
 "metadata": {
  "kernelspec": {
   "display_name": "Python 3",
   "language": "python",
   "name": "python3"
  },
  "language_info": {
   "codemirror_mode": {
    "name": "ipython",
    "version": 3
   },
   "file_extension": ".py",
   "mimetype": "text/x-python",
   "name": "python",
   "nbconvert_exporter": "python",
   "pygments_lexer": "ipython3",
   "version": "3.8.8"
  }
 },
 "nbformat": 4,
 "nbformat_minor": 5
}
