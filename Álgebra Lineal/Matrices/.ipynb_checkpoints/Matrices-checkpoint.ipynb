{
 "cells": [
  {
   "cell_type": "code",
   "execution_count": 1,
   "id": "ed092045-691a-4da3-bdfd-6affa2005cc5",
   "metadata": {},
   "outputs": [],
   "source": [
    "import numpy as np\n",
    "from numpy import linalg as LA"
   ]
  },
  {
   "cell_type": "code",
   "execution_count": 2,
   "id": "08179e27-7f31-4898-a44a-f6b3eca37af6",
   "metadata": {},
   "outputs": [],
   "source": [
    "m = 5\n",
    "n = 3"
   ]
  },
  {
   "cell_type": "code",
   "execution_count": 3,
   "id": "91878085-24eb-4ec4-9ccc-9b95a9892601",
   "metadata": {},
   "outputs": [],
   "source": [
    "A = np.empty((m,n))"
   ]
  },
  {
   "cell_type": "code",
   "execution_count": 4,
   "id": "83288549-8aba-4504-a81b-ae0808035b64",
   "metadata": {},
   "outputs": [],
   "source": [
    "#Rellenar la matriz manualente\n",
    "for i in range(0,m):\n",
    "    for j in range(0,n):\n",
    "        A[i,j] = 0.23 + 100*i + j"
   ]
  },
  {
   "cell_type": "code",
   "execution_count": 5,
   "id": "4297d717-d250-4878-977b-1afead619c1f",
   "metadata": {},
   "outputs": [],
   "source": [
    "B = 7.52*np.ones((m,n)) #asigna a todos los elementos de la matriz dada el valor dado\n",
    "C = np.zeros((n,n)) #asigna todos los valores a 0 de la matriz dada\n",
    "D = np.eye(n,m)"
   ]
  },
  {
   "cell_type": "code",
   "execution_count": 6,
   "id": "90739cb0-172b-4787-a261-733cf908c007",
   "metadata": {},
   "outputs": [
    {
     "name": "stdout",
     "output_type": "stream",
     "text": [
      "A = [[2.3000e-01 1.2300e+00 2.2300e+00]\n",
      " [1.0023e+02 1.0123e+02 1.0223e+02]\n",
      " [2.0023e+02 2.0123e+02 2.0223e+02]\n",
      " [3.0023e+02 3.0123e+02 3.0223e+02]\n",
      " [4.0023e+02 4.0123e+02 4.0223e+02]]\n",
      "B = [[7.52 7.52 7.52]\n",
      " [7.52 7.52 7.52]\n",
      " [7.52 7.52 7.52]\n",
      " [7.52 7.52 7.52]\n",
      " [7.52 7.52 7.52]]\n",
      "C = [[0. 0. 0.]\n",
      " [0. 0. 0.]\n",
      " [0. 0. 0.]]\n",
      "D = [[1. 0. 0. 0. 0.]\n",
      " [0. 1. 0. 0. 0.]\n",
      " [0. 0. 1. 0. 0.]]\n"
     ]
    }
   ],
   "source": [
    "print(\"A = {}\".format(A))\n",
    "print(\"B = {}\".format(B))\n",
    "print(\"C = {}\".format(C))\n",
    "print(\"D = {}\".format(D))"
   ]
  },
  {
   "cell_type": "code",
   "execution_count": 7,
   "id": "daeb0cdf-5b42-4acf-9c9e-eb5901769c3c",
   "metadata": {},
   "outputs": [
    {
     "name": "stdout",
     "output_type": "stream",
     "text": [
      "[  2.23 102.23 202.23 302.23 402.23]\n"
     ]
    }
   ],
   "source": [
    "#obtener la columna j de la matriz A\n",
    "print(A[:,2])"
   ]
  },
  {
   "cell_type": "code",
   "execution_count": 8,
   "id": "cd1b532c-7891-4eec-a7cf-6954d9bd160f",
   "metadata": {},
   "outputs": [
    {
     "name": "stdout",
     "output_type": "stream",
     "text": [
      "[100.23 101.23 102.23]\n"
     ]
    }
   ],
   "source": [
    "#obtener la fila i de la matriz A\n",
    "print(A[1,:])"
   ]
  },
  {
   "cell_type": "code",
   "execution_count": 9,
   "id": "d3b5a39a-df89-4006-bac6-b7f98d3c1fde",
   "metadata": {},
   "outputs": [
    {
     "name": "stdout",
     "output_type": "stream",
     "text": [
      "[  0.23 101.23 202.23]\n"
     ]
    }
   ],
   "source": [
    "#obtiene la diagonal\n",
    "print(np.diagonal(A))"
   ]
  },
  {
   "cell_type": "code",
   "execution_count": 10,
   "id": "e6d35978-83e7-4faf-84ea-54d86b1ccf13",
   "metadata": {},
   "outputs": [],
   "source": [
    "#Copia la matriz A en la matriz E\n",
    "E = np.copy(A)\n",
    "#print(\"E = {}\".format(E))"
   ]
  },
  {
   "cell_type": "code",
   "execution_count": 11,
   "id": "ea05b64d-3750-4bbd-9ced-6d5d50987ab8",
   "metadata": {},
   "outputs": [
    {
     "name": "stdout",
     "output_type": "stream",
     "text": [
      "A' = [[4.0023e+02 4.0123e+02 4.0223e+02]\n",
      " [1.0023e+02 1.0123e+02 1.0223e+02]\n",
      " [2.0023e+02 2.0123e+02 2.0223e+02]\n",
      " [3.0023e+02 3.0123e+02 3.0223e+02]\n",
      " [2.3000e-01 1.2300e+00 2.2300e+00]]\n"
     ]
    }
   ],
   "source": [
    "#Intercambia la fila i con la fila j\n",
    "# E[[j,i],:] = E[[i,j],:]\n",
    "E[[4,0],:] = E[[0,4],:]\n",
    "print(\"A' = {}\".format(E))"
   ]
  },
  {
   "cell_type": "code",
   "execution_count": 12,
   "id": "f1313703-5888-417b-a84b-6b997b54214e",
   "metadata": {},
   "outputs": [
    {
     "name": "stdout",
     "output_type": "stream",
     "text": [
      "A' = [[2.2300e+00 1.2300e+00 2.3000e-01]\n",
      " [1.0223e+02 1.0123e+02 1.0023e+02]\n",
      " [2.0223e+02 2.0123e+02 2.0023e+02]\n",
      " [3.0223e+02 3.0123e+02 3.0023e+02]\n",
      " [4.0223e+02 4.0123e+02 4.0023e+02]]\n"
     ]
    }
   ],
   "source": [
    "#Intercambia la columna i con la columna j\n",
    "# E[:,[j,i]] = E[:,[i,j]]\n",
    "E = np.copy(A)\n",
    "E[:,[2,0]] = E[:,[0,2]]\n",
    "print(\"A' = {}\".format(E))"
   ]
  },
  {
   "cell_type": "code",
   "execution_count": 13,
   "id": "d18e45a4-5a15-4d85-84b4-f5c14dd7a8a9",
   "metadata": {},
   "outputs": [
    {
     "name": "stdout",
     "output_type": "stream",
     "text": [
      "A^T = [[2.3000e-01 1.0023e+02 2.0023e+02 3.0023e+02 4.0023e+02]\n",
      " [1.2300e+00 1.0123e+02 2.0123e+02 3.0123e+02 4.0123e+02]\n",
      " [2.2300e+00 1.0223e+02 2.0223e+02 3.0223e+02 4.0223e+02]]\n"
     ]
    }
   ],
   "source": [
    "#transpuesta\n",
    "print(\"A^T = {}\".format(A.T))"
   ]
  },
  {
   "cell_type": "code",
   "execution_count": 14,
   "id": "1bc236cc-4cac-4266-b836-e70f2682867b",
   "metadata": {},
   "outputs": [
    {
     "name": "stdout",
     "output_type": "stream",
     "text": [
      "A + B = [[  7.75   8.75   9.75]\n",
      " [107.75 108.75 109.75]\n",
      " [207.75 208.75 209.75]\n",
      " [307.75 308.75 309.75]\n",
      " [407.75 408.75 409.75]]\n"
     ]
    }
   ],
   "source": [
    "#suma\n",
    "print(\"A + B = {}\".format(A + B))"
   ]
  },
  {
   "cell_type": "code",
   "execution_count": 15,
   "id": "512d4803-89c2-45fc-a8c0-f36796f02bd9",
   "metadata": {},
   "outputs": [
    {
     "name": "stdout",
     "output_type": "stream",
     "text": [
      "A - B = [[ -7.29  -6.29  -5.29]\n",
      " [ 92.71  93.71  94.71]\n",
      " [192.71 193.71 194.71]\n",
      " [292.71 293.71 294.71]\n",
      " [392.71 393.71 394.71]]\n"
     ]
    }
   ],
   "source": [
    "#resta\n",
    "print(\"A - B = {}\".format(A - B))"
   ]
  },
  {
   "cell_type": "code",
   "execution_count": 16,
   "id": "9704c82f-f9e1-4237-b705-6bd007d1c82d",
   "metadata": {},
   "outputs": [
    {
     "name": "stdout",
     "output_type": "stream",
     "text": [
      "A(i,j)*B(i,j) = [[1.7296000e+00 9.2496000e+00 1.6769600e+01]\n",
      " [7.5372960e+02 7.6124960e+02 7.6876960e+02]\n",
      " [1.5057296e+03 1.5132496e+03 1.5207696e+03]\n",
      " [2.2577296e+03 2.2652496e+03 2.2727696e+03]\n",
      " [3.0097296e+03 3.0172496e+03 3.0247696e+03]]\n"
     ]
    }
   ],
   "source": [
    "#multiplicación componente por componente\n",
    "print(\"A(i,j)*B(i,j) = {}\".format(np.multiply(A,B)))"
   ]
  },
  {
   "cell_type": "code",
   "execution_count": 17,
   "id": "840ef679-f4a6-4e3c-991d-3cbbce92b346",
   "metadata": {},
   "outputs": [
    {
     "name": "stdout",
     "output_type": "stream",
     "text": [
      "A(i,j)/B(i,j) = [[3.05851064e-02 1.63563830e-01 2.96542553e-01]\n",
      " [1.33284574e+01 1.34614362e+01 1.35944149e+01]\n",
      " [2.66263298e+01 2.67593085e+01 2.68922872e+01]\n",
      " [3.99242021e+01 4.00571809e+01 4.01901596e+01]\n",
      " [5.32220745e+01 5.33550532e+01 5.34880319e+01]]\n"
     ]
    }
   ],
   "source": [
    "#divide componente por componente\n",
    "print(\"A(i,j)/B(i,j) = {}\".format(np.divide(A,B)))"
   ]
  },
  {
   "cell_type": "code",
   "execution_count": 18,
   "id": "c4de7056-a577-4ea3-a320-a5795ccfd3db",
   "metadata": {},
   "outputs": [
    {
     "name": "stdout",
     "output_type": "stream",
     "text": [
      "3.9 A = [[8.970000e-01 4.797000e+00 8.697000e+00]\n",
      " [3.908970e+02 3.947970e+02 3.986970e+02]\n",
      " [7.808970e+02 7.847970e+02 7.886970e+02]\n",
      " [1.170897e+03 1.174797e+03 1.178697e+03]\n",
      " [1.560897e+03 1.564797e+03 1.568697e+03]]\n"
     ]
    }
   ],
   "source": [
    "#multiplicación por escalar\n",
    "print(\"3.9 A = {}\".format(3.9*A))"
   ]
  },
  {
   "cell_type": "code",
   "execution_count": 19,
   "id": "faf42c8a-5bce-4b05-8e8e-631f0b581b59",
   "metadata": {},
   "outputs": [
    {
     "name": "stdout",
     "output_type": "stream",
     "text": [
      "A + 3.9 = [[  4.13   5.13   6.13]\n",
      " [104.13 105.13 106.13]\n",
      " [204.13 205.13 206.13]\n",
      " [304.13 305.13 306.13]\n",
      " [404.13 405.13 406.13]]\n"
     ]
    }
   ],
   "source": [
    "#suma de un escalar a todos los componentes\n",
    "print(\"A + 3.9 = {}\".format(A + 3.9))"
   ]
  },
  {
   "cell_type": "code",
   "execution_count": 20,
   "id": "666dee3a-032a-468e-bb39-0cd2c360ac0c",
   "metadata": {},
   "outputs": [
    {
     "name": "stdout",
     "output_type": "stream",
     "text": [
      "max(A) = 402.23\n"
     ]
    }
   ],
   "source": [
    "#valor maximo\n",
    "print(\"max(A) = {}\".format(np.max(A)))"
   ]
  },
  {
   "cell_type": "code",
   "execution_count": 21,
   "id": "a8b86977-c35d-4693-ab50-70abf614e431",
   "metadata": {},
   "outputs": [
    {
     "name": "stdout",
     "output_type": "stream",
     "text": [
      "min(A) = 0.23\n"
     ]
    }
   ],
   "source": [
    "#valor minimo\n",
    "print(\"min(A) = {}\".format(np.min(A)))"
   ]
  },
  {
   "cell_type": "code",
   "execution_count": 22,
   "id": "3f1327f2-43d4-4e88-b43c-0952d5183b71",
   "metadata": {},
   "outputs": [
    {
     "name": "stdout",
     "output_type": "stream",
     "text": [
      "||A||_1 = 1011.1500000000001\n"
     ]
    }
   ],
   "source": [
    "#1-norma de A\n",
    "print(\"||A||_1 = {}\".format(LA.norm(A, ord=1)))"
   ]
  },
  {
   "cell_type": "code",
   "execution_count": null,
   "id": "f5e6e1c5-a355-48d1-ae7f-bb928c37c53a",
   "metadata": {},
   "outputs": [],
   "source": []
  }
 ],
 "metadata": {
  "kernelspec": {
   "display_name": "Python 3",
   "language": "python",
   "name": "python3"
  },
  "language_info": {
   "codemirror_mode": {
    "name": "ipython",
    "version": 3
   },
   "file_extension": ".py",
   "mimetype": "text/x-python",
   "name": "python",
   "nbconvert_exporter": "python",
   "pygments_lexer": "ipython3",
   "version": "3.8.8"
  }
 },
 "nbformat": 4,
 "nbformat_minor": 5
}
