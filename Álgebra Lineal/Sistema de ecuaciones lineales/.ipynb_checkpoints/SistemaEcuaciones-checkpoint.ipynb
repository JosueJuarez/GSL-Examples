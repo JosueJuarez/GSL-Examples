{
 "cells": [
  {
   "cell_type": "code",
   "execution_count": 1,
   "id": "f790780a-8f24-4230-8482-60340643708e",
   "metadata": {},
   "outputs": [],
   "source": [
    "import numpy as np\n",
    "from numpy import linalg as LA"
   ]
  },
  {
   "cell_type": "code",
   "execution_count": 2,
   "id": "dabef358-cf7e-4a7f-a223-afcf5220c384",
   "metadata": {},
   "outputs": [],
   "source": [
    "A = np.array([[0.18, 0.60, 0.57, 0.96],\n",
    "             [0.41, 0.24, 0.99, 0.58],\n",
    "             [0.14, 0.30, 0.97, 0.66],\n",
    "             [0.51, 0.13, 0.19, 0.85]])\n",
    "b = np.array([1.0, 2.0, 3.0, 4.0])"
   ]
  },
  {
   "cell_type": "code",
   "execution_count": 3,
   "id": "eee9a37b-5965-4474-bb9a-74c8470f61b1",
   "metadata": {},
   "outputs": [],
   "source": [
    "x = LA.solve(A,b)"
   ]
  },
  {
   "cell_type": "code",
   "execution_count": 4,
   "id": "b773e9d9-3d9b-423a-a4f4-da33c9d7a56b",
   "metadata": {},
   "outputs": [
    {
     "name": "stdout",
     "output_type": "stream",
     "text": [
      "[ -4.05205023 -12.6056114    1.66091163   8.69376693]\n"
     ]
    }
   ],
   "source": [
    "print(x)"
   ]
  },
  {
   "cell_type": "code",
   "execution_count": null,
   "id": "575609d4-9e09-4cf6-869d-4df47caf30aa",
   "metadata": {},
   "outputs": [],
   "source": []
  }
 ],
 "metadata": {
  "kernelspec": {
   "display_name": "Python 3",
   "language": "python",
   "name": "python3"
  },
  "language_info": {
   "codemirror_mode": {
    "name": "ipython",
    "version": 3
   },
   "file_extension": ".py",
   "mimetype": "text/x-python",
   "name": "python",
   "nbconvert_exporter": "python",
   "pygments_lexer": "ipython3",
   "version": "3.8.8"
  }
 },
 "nbformat": 4,
 "nbformat_minor": 5
}
