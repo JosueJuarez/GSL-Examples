{
 "cells": [
  {
   "cell_type": "code",
   "execution_count": 1,
   "id": "f330e8d1-ef06-4494-88b6-c8436eae3f0d",
   "metadata": {},
   "outputs": [],
   "source": [
    "import numpy as np"
   ]
  },
  {
   "cell_type": "code",
   "execution_count": 2,
   "id": "b0580b45-feb2-4d9b-ba08-0b7171f9479c",
   "metadata": {},
   "outputs": [],
   "source": [
    "n = 5"
   ]
  },
  {
   "cell_type": "code",
   "execution_count": 3,
   "id": "0a5a1637-768e-4381-9e43-5ee6f235b8a7",
   "metadata": {},
   "outputs": [],
   "source": [
    "v = np.empty((n,))\n",
    "w = np.empty((n,))"
   ]
  },
  {
   "cell_type": "code",
   "execution_count": 4,
   "id": "8ea2b9fd-a35e-49a9-b702-9cc5df5082fa",
   "metadata": {},
   "outputs": [],
   "source": [
    "for i in range(0,n):\n",
    "    v[i] = 1.23 + i\n",
    "    w[i] = -5.23 + i"
   ]
  },
  {
   "cell_type": "code",
   "execution_count": 5,
   "id": "dec78c2f-01e0-4a33-9207-673c65593755",
   "metadata": {},
   "outputs": [
    {
     "name": "stdout",
     "output_type": "stream",
     "text": [
      "v = [1.23 2.23 3.23 4.23 5.23]\n",
      "w = [-5.23 -4.23 -3.23 -2.23 -1.23]\n"
     ]
    }
   ],
   "source": [
    "print(\"v = {}\".format(v))\n",
    "print(\"w = {}\".format(w))"
   ]
  },
  {
   "cell_type": "code",
   "execution_count": 6,
   "id": "2a9ea69f-1dbd-485c-b5d6-d8a0009a1bb4",
   "metadata": {},
   "outputs": [
    {
     "name": "stdout",
     "output_type": "stream",
     "text": [
      "v = [5.23 4.23 3.23 2.23 1.23]\n"
     ]
    }
   ],
   "source": [
    "#vector en orden inverso\n",
    "print(\"v = {}\".format(v[::-1]))"
   ]
  },
  {
   "cell_type": "code",
   "execution_count": 7,
   "id": "3d48951e-2828-40c7-89b5-131b933ab31c",
   "metadata": {},
   "outputs": [
    {
     "name": "stdout",
     "output_type": "stream",
     "text": [
      "v + w = [-4.0000000e+00 -2.0000000e+00 -4.4408921e-16  2.0000000e+00\n",
      "  4.0000000e+00]\n"
     ]
    }
   ],
   "source": [
    "#v+w\n",
    "print(\"v + w = {}\".format(v+w))"
   ]
  },
  {
   "cell_type": "code",
   "execution_count": 8,
   "id": "09cf5d76-9477-4180-8d17-8dae4570e5ea",
   "metadata": {},
   "outputs": [
    {
     "name": "stdout",
     "output_type": "stream",
     "text": [
      "v - w = [6.46 6.46 6.46 6.46 6.46]\n"
     ]
    }
   ],
   "source": [
    "#v-w\n",
    "print(\"v - w = {}\".format(v-w))"
   ]
  },
  {
   "cell_type": "code",
   "execution_count": 9,
   "id": "af13a81f-11b9-43ae-97ba-afb8690e0b6f",
   "metadata": {},
   "outputs": [
    {
     "name": "stdout",
     "output_type": "stream",
     "text": [
      "v*w = [ -6.4329  -9.4329 -10.4329  -9.4329  -6.4329]\n"
     ]
    }
   ],
   "source": [
    "#v*w componente a componente\n",
    "print(\"v*w = {}\".format(v*w))"
   ]
  },
  {
   "cell_type": "code",
   "execution_count": 10,
   "id": "dbe214bd-3e0d-4b7f-8cde-baa6df28ae6b",
   "metadata": {},
   "outputs": [
    {
     "name": "stdout",
     "output_type": "stream",
     "text": [
      "v/w = [-0.23518164 -0.52718676 -1.         -1.89686099 -4.25203252]\n"
     ]
    }
   ],
   "source": [
    "#v/w componente a componente\n",
    "print(\"v/w = {}\".format(v/w))"
   ]
  },
  {
   "cell_type": "code",
   "execution_count": 11,
   "id": "b3d5eed4-c1cc-4a80-b652-9d35b46d3dd6",
   "metadata": {},
   "outputs": [
    {
     "name": "stdout",
     "output_type": "stream",
     "text": [
      "5v = [ 6.15 11.15 16.15 21.15 26.15]\n"
     ]
    }
   ],
   "source": [
    "#reescalar un vector\n",
    "print(\"5v = {}\".format(5*v))"
   ]
  },
  {
   "cell_type": "code",
   "execution_count": 12,
   "id": "f8cc1e0a-37b3-4669-a13d-6178e4f90e5b",
   "metadata": {},
   "outputs": [
    {
     "name": "stdout",
     "output_type": "stream",
     "text": [
      "v + 5 = [ 6.23  7.23  8.23  9.23 10.23]\n"
     ]
    }
   ],
   "source": [
    "#sumar constante a un vector\n",
    "print(\"v + 5 = {}\".format(v + 5))"
   ]
  },
  {
   "cell_type": "code",
   "execution_count": 13,
   "id": "91c9db0c-51f4-4c3d-9f25-3ca384ed35e8",
   "metadata": {},
   "outputs": [
    {
     "name": "stdout",
     "output_type": "stream",
     "text": [
      "suma: 16.15\n"
     ]
    }
   ],
   "source": [
    "#suma los elementos de v\n",
    "print(\"suma: {}\".format(np.sum(v)))"
   ]
  },
  {
   "cell_type": "code",
   "execution_count": 14,
   "id": "2a7b4377-b2e6-45b9-b470-f57b418e8bb3",
   "metadata": {},
   "outputs": [
    {
     "name": "stdout",
     "output_type": "stream",
     "text": [
      "v.w = -42.16450000000001\n"
     ]
    }
   ],
   "source": [
    "#producto escalar\n",
    "print(\"v.w = {}\".format(np.dot(v,w)))"
   ]
  },
  {
   "cell_type": "code",
   "execution_count": 15,
   "id": "eadf4265-f60f-4e77-94d6-0167f5ad133d",
   "metadata": {},
   "outputs": [
    {
     "name": "stdout",
     "output_type": "stream",
     "text": [
      "2w + 5v = [-4.31  2.69  9.69 16.69 23.69]\n"
     ]
    }
   ],
   "source": [
    "#Realiza la operación a*w + b*v, a y b son escalares\n",
    "print(\"2w + 5v = {}\".format(2.*w + 5.*v))"
   ]
  },
  {
   "cell_type": "code",
   "execution_count": 16,
   "id": "6dd2321d-aa65-4e40-be28-08757880b414",
   "metadata": {},
   "outputs": [
    {
     "name": "stdout",
     "output_type": "stream",
     "text": [
      "max(v) = 5.23\n"
     ]
    }
   ],
   "source": [
    "#elemento maximo\n",
    "print(\"max(v) = {}\".format(np.max(v)))"
   ]
  },
  {
   "cell_type": "code",
   "execution_count": 17,
   "id": "a80df04f-8daa-44c3-84af-853f35b7ed2d",
   "metadata": {},
   "outputs": [
    {
     "name": "stdout",
     "output_type": "stream",
     "text": [
      "min(v) = 1.23\n"
     ]
    }
   ],
   "source": [
    "#elemento min\n",
    "print(\"min(v) = {}\".format(np.min(v)))"
   ]
  }
 ],
 "metadata": {
  "kernelspec": {
   "display_name": "Python 3",
   "language": "python",
   "name": "python3"
  },
  "language_info": {
   "codemirror_mode": {
    "name": "ipython",
    "version": 3
   },
   "file_extension": ".py",
   "mimetype": "text/x-python",
   "name": "python",
   "nbconvert_exporter": "python",
   "pygments_lexer": "ipython3",
   "version": "3.8.8"
  }
 },
 "nbformat": 4,
 "nbformat_minor": 5
}
