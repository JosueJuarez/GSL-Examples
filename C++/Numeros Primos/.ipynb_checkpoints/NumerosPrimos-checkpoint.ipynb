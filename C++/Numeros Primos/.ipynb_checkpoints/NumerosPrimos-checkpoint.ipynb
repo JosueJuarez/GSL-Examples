{
 "cells": [
  {
   "cell_type": "markdown",
   "id": "c0fb1557-7df4-46cb-8276-39d0ba1f6156",
   "metadata": {},
   "source": [
    "# Números primos\n",
    "\n",
    "Un número primo es un número natural mayor a 1, tal que sus divisores son él mismo y la unidad."
   ]
  },
  {
   "cell_type": "code",
   "execution_count": 1,
   "id": "be32df92-1043-4fd9-8ea2-0303c6b4306d",
   "metadata": {},
   "outputs": [],
   "source": [
    "def Primos(n):\n",
    "    P = [2]\n",
    "    k = 1\n",
    "    x = 3\n",
    "    while k <= n:\n",
    "        primo = True\n",
    "        i = 0\n",
    "        while i < len(P) and primo == True:\n",
    "            if x%P[i] == 0:\n",
    "                primo = False\n",
    "            i += 1\n",
    "        if primo == True:\n",
    "            print(x)\n",
    "            P.append(x)\n",
    "            x += 1\n",
    "            k += 1\n",
    "        else:\n",
    "            x += 1\n",
    "    return P"
   ]
  },
  {
   "cell_type": "code",
   "execution_count": 2,
   "id": "dfcac1f8-006c-4122-9d04-4ec7f9a1aa6b",
   "metadata": {},
   "outputs": [
    {
     "name": "stdout",
     "output_type": "stream",
     "text": [
      "3\n",
      "5\n",
      "7\n",
      "11\n",
      "13\n",
      "17\n",
      "19\n",
      "23\n",
      "29\n",
      "31\n",
      "37\n",
      "41\n",
      "43\n",
      "47\n",
      "53\n",
      "59\n",
      "61\n",
      "67\n",
      "71\n",
      "73\n",
      "79\n",
      "83\n",
      "89\n",
      "97\n",
      "101\n",
      "103\n",
      "107\n",
      "109\n",
      "113\n",
      "127\n",
      "131\n",
      "137\n",
      "139\n",
      "149\n",
      "151\n",
      "157\n",
      "163\n",
      "167\n",
      "173\n",
      "179\n",
      "181\n",
      "191\n",
      "193\n",
      "197\n",
      "199\n",
      "211\n",
      "223\n",
      "227\n",
      "229\n",
      "233\n"
     ]
    }
   ],
   "source": [
    "l = Primos(50)"
   ]
  },
  {
   "cell_type": "code",
   "execution_count": null,
   "id": "3a4a62b3-b57e-405f-b6c7-651c08dc5341",
   "metadata": {},
   "outputs": [],
   "source": []
  }
 ],
 "metadata": {
  "kernelspec": {
   "display_name": "Python 3",
   "language": "python",
   "name": "python3"
  },
  "language_info": {
   "codemirror_mode": {
    "name": "ipython",
    "version": 3
   },
   "file_extension": ".py",
   "mimetype": "text/x-python",
   "name": "python",
   "nbconvert_exporter": "python",
   "pygments_lexer": "ipython3",
   "version": "3.8.8"
  }
 },
 "nbformat": 4,
 "nbformat_minor": 5
}
