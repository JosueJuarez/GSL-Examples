{
 "cells": [
  {
   "cell_type": "markdown",
   "id": "78296f26-0d22-48c3-a65b-5c682730a698",
   "metadata": {},
   "source": [
    "Calcula los coeficientes binomiales $C(n,k) = n! / k!(n-k)!$, mediante la forma recursiva\n",
    "\n",
    "$$C(n,k) = C(n-1,k-1) + C(n-1,k)$$"
   ]
  },
  {
   "cell_type": "code",
   "execution_count": 1,
   "id": "fe4d0f7a-dec2-4325-8ff8-6b4540fface2",
   "metadata": {},
   "outputs": [],
   "source": [
    "import math"
   ]
  },
  {
   "cell_type": "code",
   "execution_count": 2,
   "id": "4f3f3369-c691-4849-985f-797e23e1275f",
   "metadata": {},
   "outputs": [],
   "source": [
    "def C(n,k):\n",
    "    if k == 0:\n",
    "        c = 1\n",
    "    elif k == n:\n",
    "        c = 1\n",
    "    elif k > n:\n",
    "        c  = 0\n",
    "    else:\n",
    "        c = C(n-1, k-1) + C(n-1, k)\n",
    "    return c"
   ]
  },
  {
   "cell_type": "code",
   "execution_count": 5,
   "id": "b46e5b8e-97ba-4bfc-b5ac-97bf5eb6fd15",
   "metadata": {},
   "outputs": [],
   "source": [
    "n = 8\n",
    "k = 4"
   ]
  },
  {
   "cell_type": "code",
   "execution_count": 6,
   "id": "13a4b488-45c8-4551-a245-58aec34dbda3",
   "metadata": {},
   "outputs": [
    {
     "name": "stdout",
     "output_type": "stream",
     "text": [
      "70 70\n"
     ]
    }
   ],
   "source": [
    "print(C(n,k) , math.comb(n, k))"
   ]
  },
  {
   "cell_type": "code",
   "execution_count": null,
   "id": "3a5319d4-318f-4770-832b-f2d04a8ffdba",
   "metadata": {},
   "outputs": [],
   "source": []
  }
 ],
 "metadata": {
  "kernelspec": {
   "display_name": "Python 3",
   "language": "python",
   "name": "python3"
  },
  "language_info": {
   "codemirror_mode": {
    "name": "ipython",
    "version": 3
   },
   "file_extension": ".py",
   "mimetype": "text/x-python",
   "name": "python",
   "nbconvert_exporter": "python",
   "pygments_lexer": "ipython3",
   "version": "3.8.8"
  }
 },
 "nbformat": 4,
 "nbformat_minor": 5
}
