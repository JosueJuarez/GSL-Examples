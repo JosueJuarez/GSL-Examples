{
 "cells": [
  {
   "cell_type": "markdown",
   "id": "6d41d19b-11ba-4aa1-9105-4f66c451c587",
   "metadata": {},
   "source": [
    "# Factorial de un número\n",
    "\n",
    "$n! = n*(n-1)*(n-1) \\cdots 3*2*1$.\n",
    "\n",
    "Además, $0!=1$."
   ]
  },
  {
   "cell_type": "code",
   "execution_count": 1,
   "id": "32a2bd2d-510b-4e2e-816a-2f36155ea802",
   "metadata": {},
   "outputs": [],
   "source": [
    "def Factorial(n):\n",
    "    fact = 1\n",
    "    for i in range(1,n+1):\n",
    "        fact = fact*i\n",
    "    return fact"
   ]
  },
  {
   "cell_type": "code",
   "execution_count": 2,
   "id": "f1db9678-d35e-4628-9b93-4e7dbd4d268e",
   "metadata": {},
   "outputs": [
    {
     "data": {
      "text/plain": [
       "265252859812191058636308480000000"
      ]
     },
     "execution_count": 2,
     "metadata": {},
     "output_type": "execute_result"
    }
   ],
   "source": [
    "Factorial(30)"
   ]
  },
  {
   "cell_type": "markdown",
   "id": "6bd58f60-b1ec-43d2-8c80-d1b72039f880",
   "metadata": {},
   "source": [
    "# Doble factorial\n",
    "\n",
    "$0!! = 1$.\n",
    "\n",
    "$n!! = (n-2)!!*n$"
   ]
  }
 ],
 "metadata": {
  "kernelspec": {
   "display_name": "Python 3",
   "language": "python",
   "name": "python3"
  },
  "language_info": {
   "codemirror_mode": {
    "name": "ipython",
    "version": 3
   },
   "file_extension": ".py",
   "mimetype": "text/x-python",
   "name": "python",
   "nbconvert_exporter": "python",
   "pygments_lexer": "ipython3",
   "version": "3.8.8"
  }
 },
 "nbformat": 4,
 "nbformat_minor": 5
}
