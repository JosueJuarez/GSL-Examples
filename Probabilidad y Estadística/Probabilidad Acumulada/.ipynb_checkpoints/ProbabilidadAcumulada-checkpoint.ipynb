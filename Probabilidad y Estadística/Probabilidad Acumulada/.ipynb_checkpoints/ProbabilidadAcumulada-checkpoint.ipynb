{
 "cells": [
  {
   "cell_type": "code",
   "execution_count": 1,
   "id": "eb1a2597-4baf-4b23-b9c7-813d393db477",
   "metadata": {},
   "outputs": [],
   "source": [
    "from scipy.stats import norm"
   ]
  },
  {
   "cell_type": "code",
   "execution_count": 2,
   "id": "89417efb-9153-4e1e-afc2-1fe39302461a",
   "metadata": {},
   "outputs": [
    {
     "name": "stdout",
     "output_type": "stream",
     "text": [
      "P(x < 2) = 0.9772498680518208\n"
     ]
    }
   ],
   "source": [
    "print(\"P(x < 2) = {}\".format(norm.cdf(2)))"
   ]
  },
  {
   "cell_type": "code",
   "execution_count": 3,
   "id": "de9abd8a-e046-41bc-bf17-5dbf93360784",
   "metadata": {},
   "outputs": [
    {
     "name": "stdout",
     "output_type": "stream",
     "text": [
      "P(x > 2) = 0.02275013194817921\n"
     ]
    }
   ],
   "source": [
    "print(\"P(x > 2) = {}\".format(1. - norm.cdf(2)))"
   ]
  },
  {
   "cell_type": "code",
   "execution_count": null,
   "id": "2796fad6-6619-4725-84e3-02fa041a8821",
   "metadata": {},
   "outputs": [],
   "source": []
  }
 ],
 "metadata": {
  "kernelspec": {
   "display_name": "Python 3",
   "language": "python",
   "name": "python3"
  },
  "language_info": {
   "codemirror_mode": {
    "name": "ipython",
    "version": 3
   },
   "file_extension": ".py",
   "mimetype": "text/x-python",
   "name": "python",
   "nbconvert_exporter": "python",
   "pygments_lexer": "ipython3",
   "version": "3.8.8"
  }
 },
 "nbformat": 4,
 "nbformat_minor": 5
}
