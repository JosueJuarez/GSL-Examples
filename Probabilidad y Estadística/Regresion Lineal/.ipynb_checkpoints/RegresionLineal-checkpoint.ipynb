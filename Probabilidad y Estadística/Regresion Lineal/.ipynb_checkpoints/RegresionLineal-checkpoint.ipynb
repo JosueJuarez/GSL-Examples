{
 "cells": [
  {
   "cell_type": "code",
   "execution_count": 1,
   "id": "7b1ad7f0-6297-4591-9779-59deb9f85020",
   "metadata": {},
   "outputs": [],
   "source": [
    "import pandas as pd\n",
    "import numpy as np\n",
    "from sklearn.linear_model import LinearRegression\n",
    "import matplotlib.pyplot as plt"
   ]
  },
  {
   "cell_type": "code",
   "execution_count": 2,
   "id": "12cc9125-0653-4401-bdaa-9835ab387229",
   "metadata": {},
   "outputs": [
    {
     "data": {
      "text/html": [
       "<div>\n",
       "<style scoped>\n",
       "    .dataframe tbody tr th:only-of-type {\n",
       "        vertical-align: middle;\n",
       "    }\n",
       "\n",
       "    .dataframe tbody tr th {\n",
       "        vertical-align: top;\n",
       "    }\n",
       "\n",
       "    .dataframe thead th {\n",
       "        text-align: right;\n",
       "    }\n",
       "</style>\n",
       "<table border=\"1\" class=\"dataframe\">\n",
       "  <thead>\n",
       "    <tr style=\"text-align: right;\">\n",
       "      <th></th>\n",
       "      <th>x</th>\n",
       "      <th>y</th>\n",
       "      <th>sigma</th>\n",
       "    </tr>\n",
       "  </thead>\n",
       "  <tbody>\n",
       "    <tr>\n",
       "      <th>0</th>\n",
       "      <td>0.496655</td>\n",
       "      <td>1.477077</td>\n",
       "      <td>37.034870</td>\n",
       "    </tr>\n",
       "    <tr>\n",
       "      <th>1</th>\n",
       "      <td>0.207494</td>\n",
       "      <td>1.180484</td>\n",
       "      <td>66.034853</td>\n",
       "    </tr>\n",
       "    <tr>\n",
       "      <th>2</th>\n",
       "      <td>1.859044</td>\n",
       "      <td>6.416714</td>\n",
       "      <td>2.428033</td>\n",
       "    </tr>\n",
       "    <tr>\n",
       "      <th>3</th>\n",
       "      <td>0.142377</td>\n",
       "      <td>1.217386</td>\n",
       "      <td>75.219870</td>\n",
       "    </tr>\n",
       "    <tr>\n",
       "      <th>4</th>\n",
       "      <td>0.446683</td>\n",
       "      <td>1.630356</td>\n",
       "      <td>40.927596</td>\n",
       "    </tr>\n",
       "  </tbody>\n",
       "</table>\n",
       "</div>"
      ],
      "text/plain": [
       "          x         y      sigma\n",
       "0  0.496655  1.477077  37.034870\n",
       "1  0.207494  1.180484  66.034853\n",
       "2  1.859044  6.416714   2.428033\n",
       "3  0.142377  1.217386  75.219870\n",
       "4  0.446683  1.630356  40.927596"
      ]
     },
     "execution_count": 2,
     "metadata": {},
     "output_type": "execute_result"
    }
   ],
   "source": [
    "data = pd.read_csv(\"data.csv\")\n",
    "data.head()"
   ]
  },
  {
   "cell_type": "code",
   "execution_count": 3,
   "id": "c1a1e326-e909-40a1-82d6-8b8da1bc0e32",
   "metadata": {},
   "outputs": [],
   "source": [
    "data[\"x^2\"] = data[\"x\"]**2"
   ]
  },
  {
   "cell_type": "code",
   "execution_count": 4,
   "id": "ff362a79-21d0-4c6b-993e-2fb853398e68",
   "metadata": {},
   "outputs": [],
   "source": [
    "reg = LinearRegression().fit(data[[\"x\",\"x^2\"]], data[[\"y\"]])"
   ]
  },
  {
   "cell_type": "code",
   "execution_count": 5,
   "id": "4cdfe870-cbb5-4448-84b3-b907da8abbde",
   "metadata": {},
   "outputs": [
    {
     "data": {
      "text/plain": [
       "array([0.39151161, 1.21488475])"
      ]
     },
     "execution_count": 5,
     "metadata": {},
     "output_type": "execute_result"
    }
   ],
   "source": [
    "reg.coef_[0]"
   ]
  },
  {
   "cell_type": "code",
   "execution_count": 6,
   "id": "b0b89bd6-c5de-4d7b-b1a8-7a8c9bb76ea9",
   "metadata": {},
   "outputs": [
    {
     "name": "stdout",
     "output_type": "stream",
     "text": [
      "Best fit: Y = 1.1005493163818165 + 0.3915116146724866X + 1.2148847498428608X^2\n"
     ]
    }
   ],
   "source": [
    "print(\"Best fit: Y = {} + {}X + {}X^2\".format(reg.intercept_[0], reg.coef_[0][0], reg.coef_[0][1]))"
   ]
  },
  {
   "cell_type": "code",
   "execution_count": 8,
   "id": "5f1f5963-c1d1-485b-8b01-3ea394e10de6",
   "metadata": {},
   "outputs": [
    {
     "data": {
      "text/plain": [
       "[<matplotlib.lines.Line2D at 0x7ff96f31a0a0>]"
      ]
     },
     "execution_count": 8,
     "metadata": {},
     "output_type": "execute_result"
    },
    {
     "data": {
      "image/png": "[encoded data removed]",
      "text/plain": [
       "<Figure size 432x288 with 1 Axes>"
      ]
     },
     "metadata": {
      "needs_background": "light"
     },
     "output_type": "display_data"
    }
   ],
   "source": [
    "x = np.linspace(0, max(data[\"x\"]))\n",
    "y = reg.intercept_[0] + reg.coef_[0][0]*x +  reg.coef_[0][1]*x**2\n",
    "\n",
    "plt.scatter(data[\"x\"], data[\"y\"])\n",
    "plt.plot(x, y, color = \"red\")"
   ]
  },
  {
   "cell_type": "code",
   "execution_count": null,
   "id": "bad65f0c-c248-4d53-91ff-ef4469326ce4",
   "metadata": {},
   "outputs": [],
   "source": []
  }
 ],
 "metadata": {
  "kernelspec": {
   "display_name": "Python 3",
   "language": "python",
   "name": "python3"
  },
  "language_info": {
   "codemirror_mode": {
    "name": "ipython",
    "version": 3
   },
   "file_extension": ".py",
   "mimetype": "text/x-python",
   "name": "python",
   "nbconvert_exporter": "python",
   "pygments_lexer": "ipython3",
   "version": "3.8.8"
  }
 },
 "nbformat": 4,
 "nbformat_minor": 5
}
