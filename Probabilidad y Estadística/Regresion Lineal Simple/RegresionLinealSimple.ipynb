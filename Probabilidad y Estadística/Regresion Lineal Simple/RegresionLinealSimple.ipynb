{
 "cells": [
  {
   "cell_type": "code",
   "execution_count": 1,
   "id": "7b1ad7f0-6297-4591-9779-59deb9f85020",
   "metadata": {},
   "outputs": [],
   "source": [
    "import numpy as np\n",
    "from sklearn.linear_model import LinearRegression"
   ]
  },
  {
   "cell_type": "code",
   "execution_count": 2,
   "id": "12cc9125-0653-4401-bdaa-9835ab387229",
   "metadata": {},
   "outputs": [],
   "source": [
    "x = np.array([1970, 1980, 1990, 2000]).reshape(-1, 1)\n",
    "y = np.array([12, 11, 14, 13])\n",
    "w = np.array([0.1, 0.2, 0.3, 0.4])"
   ]
  },
  {
   "cell_type": "code",
   "execution_count": 3,
   "id": "ff362a79-21d0-4c6b-993e-2fb853398e68",
   "metadata": {},
   "outputs": [],
   "source": [
    "reg = LinearRegression().fit(x, y)"
   ]
  },
  {
   "cell_type": "code",
   "execution_count": 4,
   "id": "b0b89bd6-c5de-4d7b-b1a8-7a8c9bb76ea9",
   "metadata": {},
   "outputs": [
    {
     "name": "stdout",
     "output_type": "stream",
     "text": [
      "Best fit: Y = -106.59999999999998 + 0.05999999999999999X\n"
     ]
    }
   ],
   "source": [
    "print(\"Best fit: Y = {} + {}X\".format(reg.intercept_, reg.coef_[0]))"
   ]
  }
 ],
 "metadata": {
  "kernelspec": {
   "display_name": "Python 3",
   "language": "python",
   "name": "python3"
  },
  "language_info": {
   "codemirror_mode": {
    "name": "ipython",
    "version": 3
   },
   "file_extension": ".py",
   "mimetype": "text/x-python",
   "name": "python",
   "nbconvert_exporter": "python",
   "pygments_lexer": "ipython3",
   "version": "3.8.8"
  }
 },
 "nbformat": 4,
 "nbformat_minor": 5
}
