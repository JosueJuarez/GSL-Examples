{
 "cells": [
  {
   "cell_type": "code",
   "execution_count": 1,
   "id": "7004d3fc-d1b7-443a-ba50-0cca99cc6ac5",
   "metadata": {},
   "outputs": [],
   "source": [
    "import numpy as np"
   ]
  },
  {
   "cell_type": "code",
   "execution_count": 2,
   "id": "41586a10-68fa-4296-9bc7-9c67d978ca57",
   "metadata": {},
   "outputs": [],
   "source": [
    "datos = np.array([17.2, 18.1, 16.5, 18.3, 12.6])"
   ]
  },
  {
   "cell_type": "code",
   "execution_count": 3,
   "id": "378106fc-1389-4986-bcd1-3da760625ef8",
   "metadata": {},
   "outputs": [
    {
     "name": "stdout",
     "output_type": "stream",
     "text": [
      "Datos: [17.2 18.1 16.5 18.3 12.6]\n",
      "Promedio: 16.54\n",
      "Varianza: 5.373000000000003\n",
      "Valor máximo: 18.3\n",
      "Valor mínimo: 12.6\n"
     ]
    }
   ],
   "source": [
    "print(\"Datos: {}\".format(datos))\n",
    "print(\"Promedio: {}\".format(np.mean(datos)))\n",
    "print(\"Varianza: {}\".format(np.var(datos, ddof = 1)))\n",
    "print(\"Valor máximo: {}\".format(np.max(datos)))\n",
    "print(\"Valor mínimo: {}\".format(np.min(datos)))"
   ]
  },
  {
   "cell_type": "code",
   "execution_count": null,
   "id": "48210a17-ba9c-4c3c-9c1e-0ac2d1c750c9",
   "metadata": {},
   "outputs": [],
   "source": []
  }
 ],
 "metadata": {
  "kernelspec": {
   "display_name": "Python 3",
   "language": "python",
   "name": "python3"
  },
  "language_info": {
   "codemirror_mode": {
    "name": "ipython",
    "version": 3
   },
   "file_extension": ".py",
   "mimetype": "text/x-python",
   "name": "python",
   "nbconvert_exporter": "python",
   "pygments_lexer": "ipython3",
   "version": "3.8.8"
  }
 },
 "nbformat": 4,
 "nbformat_minor": 5
}
